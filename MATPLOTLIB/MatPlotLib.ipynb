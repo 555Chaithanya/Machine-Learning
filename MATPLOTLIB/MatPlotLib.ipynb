{
 "cells": [
  {
   "cell_type": "code",
   "execution_count": 20,
   "id": "57113db5",
   "metadata": {},
   "outputs": [],
   "source": [
    "#artist Layer\n",
    "\n",
    "from matplotlib.backends.backend_agg import FigureCanvasAgg as FigureCanvas\n",
    "from matplotlib.figure import Figure\n",
    "fig = Figure()\n",
    "canvas = FigureCanvas(fig)\n",
    "\n",
    "import numpy as np\n",
    "x = np.random.randn(10000)\n",
    "\n",
    "ax=fig.add_subplot(111)\n",
    "\n",
    "ax.hist(x,100)\n",
    "\n",
    "ax.set_title('Normal distribution with Sigma=1$')\n",
    "fig.savefig('Matplotlib_histogram.png')\n"
   ]
  },
  {
   "cell_type": "code",
   "execution_count": 30,
   "id": "eda9ab7e",
   "metadata": {},
   "outputs": [
    {
     "data": {
      "image/png": "[encoded data removed]",
      "text/plain": [
       "<Figure size 432x288 with 1 Axes>"
      ]
     },
     "metadata": {
      "needs_background": "light"
     },
     "output_type": "display_data"
    }
   ],
   "source": [
    "#Scripting Layer _ Pyplot libz\n",
    "\n",
    "import matplotlib.pyplot as plt\n",
    "import numpy as npy\n",
    "x1 = npy.random.randn(10000)\n",
    "plt.hist(x,2000)\n",
    "plt.title('NormalDistribution Using sigma=1$')\n",
    "plt.savefig(\"matplotlib_histogram_pyplot.png\")\n",
    "plt.show()"
   ]
  },
  {
   "cell_type": "code",
   "execution_count": null,
   "id": "e54c5111",
   "metadata": {},
   "outputs": [],
   "source": []
  }
 ],
 "metadata": {
  "kernelspec": {
   "display_name": "Python 3 (ipykernel)",
   "language": "python",
   "name": "python3"
  },
  "language_info": {
   "codemirror_mode": {
    "name": "ipython",
    "version": 3
   },
   "file_extension": ".py",
   "mimetype": "text/x-python",
   "name": "python",
   "nbconvert_exporter": "python",
   "pygments_lexer": "ipython3",
   "version": "3.9.7"
  }
 },
 "nbformat": 4,
 "nbformat_minor": 5
}
