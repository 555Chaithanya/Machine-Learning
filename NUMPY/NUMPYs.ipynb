{
 "cells": [
  {
   "cell_type": "code",
   "execution_count": 2,
   "id": "67b0835a",
   "metadata": {},
   "outputs": [],
   "source": [
    "import numpy as np"
   ]
  },
  {
   "cell_type": "code",
   "execution_count": 2,
   "id": "866472ae",
   "metadata": {},
   "outputs": [],
   "source": [
    "#list vs numpy"
   ]
  },
  {
   "cell_type": "code",
   "execution_count": 3,
   "id": "a2b567fc",
   "metadata": {},
   "outputs": [],
   "source": [
    "from time import process_time"
   ]
  },
  {
   "cell_type": "code",
   "execution_count": 12,
   "id": "6e4df99f",
   "metadata": {},
   "outputs": [
    {
     "name": "stdout",
     "output_type": "stream",
     "text": [
      "7.09375\n"
     ]
    }
   ],
   "source": [
    "list1=[i for i in range(100000000)]\n",
    "s_time=process_time()\n",
    "list2=[i+5 for i in  range(100000000)]\n",
    "e_time=process_time()\n",
    "print(e_time-s_time)"
   ]
  },
  {
   "cell_type": "code",
   "execution_count": 11,
   "id": "5a852dfa",
   "metadata": {},
   "outputs": [
    {
     "name": "stdout",
     "output_type": "stream",
     "text": [
      "0.046875\n"
     ]
    }
   ],
   "source": [
    "np_arr=np.array([i for i in range(100000000)])\n",
    "s_tim=process_time()\n",
    "np_arr+=5\n",
    "e_tim=process_time()\n",
    "print(e_tim-s_tim)"
   ]
  },
  {
   "cell_type": "code",
   "execution_count": 13,
   "id": "f462d797",
   "metadata": {},
   "outputs": [],
   "source": [
    "#numpyArrays"
   ]
  },
  {
   "cell_type": "code",
   "execution_count": 14,
   "id": "08693ae9",
   "metadata": {},
   "outputs": [
    {
     "name": "stdout",
     "output_type": "stream",
     "text": [
      "[1, 4, 5, 7, 8, 9]\n"
     ]
    },
    {
     "data": {
      "text/plain": [
       "list"
      ]
     },
     "execution_count": 14,
     "metadata": {},
     "output_type": "execute_result"
    }
   ],
   "source": [
    "l1=[1,4,5,7,8,9]\n",
    "print(l1)\n",
    "type(l1)"
   ]
  },
  {
   "cell_type": "code",
   "execution_count": 4,
   "id": "648ececa",
   "metadata": {},
   "outputs": [
    {
     "name": "stdout",
     "output_type": "stream",
     "text": [
      "[1 4 5 7 8 9]\n"
     ]
    },
    {
     "data": {
      "text/plain": [
       "numpy.ndarray"
      ]
     },
     "execution_count": 4,
     "metadata": {},
     "output_type": "execute_result"
    }
   ],
   "source": [
    "np_arr1=np.array([1,4,5,7,8,9])\n",
    "print(np_arr1)\n",
    "type(np_arr1)"
   ]
  },
  {
   "cell_type": "code",
   "execution_count": 5,
   "id": "6367a30b",
   "metadata": {},
   "outputs": [
    {
     "data": {
      "text/plain": [
       "(6,)"
      ]
     },
     "execution_count": 5,
     "metadata": {},
     "output_type": "execute_result"
    }
   ],
   "source": [
    "np_arr1.shape"
   ]
  },
  {
   "cell_type": "code",
   "execution_count": 7,
   "id": "c25c0a2b",
   "metadata": {},
   "outputs": [
    {
     "name": "stdout",
     "output_type": "stream",
     "text": [
      "[[1 2 3 4]\n",
      " [5 6 7 8]]\n"
     ]
    }
   ],
   "source": [
    "b=np.array([(1,2,3,4),(5,6,7,8)])\n",
    "print(b)"
   ]
  },
  {
   "cell_type": "code",
   "execution_count": 16,
   "id": "992121ea",
   "metadata": {},
   "outputs": [
    {
     "name": "stdout",
     "output_type": "stream",
     "text": [
      "[[1. 2. 3. 0.]\n",
      " [3. 5. 7. 9.]]\n"
     ]
    }
   ],
   "source": [
    "c=np.array([[1,2,3,0],[3,5,7,9]],dtype=float)          #int,float,str\n",
    "print(c)"
   ]
  },
  {
   "cell_type": "code",
   "execution_count": 10,
   "id": "32992bef",
   "metadata": {},
   "outputs": [
    {
     "name": "stdout",
     "output_type": "stream",
     "text": [
      "(2, 4)\n"
     ]
    },
    {
     "data": {
      "text/plain": [
       "(2, 4)"
      ]
     },
     "execution_count": 10,
     "metadata": {},
     "output_type": "execute_result"
    }
   ],
   "source": [
    "print(b.shape)\n",
    "c.shape"
   ]
  },
  {
   "cell_type": "code",
   "execution_count": 4,
   "id": "e67ccc8f",
   "metadata": {},
   "outputs": [
    {
     "name": "stdout",
     "output_type": "stream",
     "text": [
      "1.20.3\n"
     ]
    }
   ],
   "source": [
    "print(np.__version__)"
   ]
  },
  {
   "cell_type": "code",
   "execution_count": 5,
   "id": "b75bc006",
   "metadata": {},
   "outputs": [],
   "source": [
    "a=np.array(10)"
   ]
  },
  {
   "cell_type": "code",
   "execution_count": 6,
   "id": "bec33d5f",
   "metadata": {},
   "outputs": [
    {
     "name": "stdout",
     "output_type": "stream",
     "text": [
      "10\n"
     ]
    }
   ],
   "source": [
    "print(a)"
   ]
  },
  {
   "cell_type": "code",
   "execution_count": 8,
   "id": "b439c1ee",
   "metadata": {},
   "outputs": [
    {
     "name": "stdout",
     "output_type": "stream",
     "text": [
      "[10 20 30 40]\n"
     ]
    }
   ],
   "source": [
    "b=np.array([10,20,30,40])\n",
    "print(b)"
   ]
  },
  {
   "cell_type": "code",
   "execution_count": 9,
   "id": "d5ff2f87",
   "metadata": {},
   "outputs": [
    {
     "data": {
      "text/plain": [
       "30"
      ]
     },
     "execution_count": 9,
     "metadata": {},
     "output_type": "execute_result"
    }
   ],
   "source": [
    "b[2]"
   ]
  },
  {
   "cell_type": "code",
   "execution_count": 12,
   "id": "bee2333d",
   "metadata": {},
   "outputs": [
    {
     "name": "stdout",
     "output_type": "stream",
     "text": [
      "[[10 20 30 40]\n",
      " [50 60 70 80]]\n",
      "30\n"
     ]
    }
   ],
   "source": [
    "c=np.array([[10,20,30,40],[50,60,70,80]])\n",
    "print(c)\n",
    "print(c[0][2])"
   ]
  },
  {
   "cell_type": "code",
   "execution_count": 17,
   "id": "9b2e5e86",
   "metadata": {},
   "outputs": [
    {
     "name": "stdout",
     "output_type": "stream",
     "text": [
      "[[[ 10  20]\n",
      "  [ 30  40]\n",
      "  [ 90 100]]\n",
      "\n",
      " [[ 50  60]\n",
      "  [ 70  80]\n",
      "  [ 99  88]]]\n"
     ]
    },
    {
     "data": {
      "text/plain": [
       "90"
      ]
     },
     "execution_count": 17,
     "metadata": {},
     "output_type": "execute_result"
    }
   ],
   "source": [
    "d3=[ [[10,20],[30,40],[90,100]] , [[50,60],[70,80],[99,88]] ]\n",
    "d2=np.asarray(d3,dtype=int)\n",
    "print(d2)\n",
    "d2[0][2][0]"
   ]
  },
  {
   "cell_type": "code",
   "execution_count": 18,
   "id": "d9ec3092",
   "metadata": {},
   "outputs": [
    {
     "name": "stdout",
     "output_type": "stream",
     "text": [
      "10\n",
      "20\n",
      "30\n",
      "40\n",
      "90\n",
      "100\n",
      "50\n",
      "60\n",
      "70\n",
      "80\n",
      "99\n",
      "88\n"
     ]
    }
   ],
   "source": [
    "for i in np.nditer(d2):\n",
    "    print(i)"
   ]
  },
  {
   "cell_type": "code",
   "execution_count": 26,
   "id": "8b64bd99",
   "metadata": {},
   "outputs": [
    {
     "data": {
      "text/plain": [
       "array([[[ 10.,  20.],\n",
       "        [ 30.,  40.],\n",
       "        [ 90., 100.]],\n",
       "\n",
       "       [[ 50.,  60.],\n",
       "        [ 70.,  80.],\n",
       "        [ 99.,  88.]]])"
      ]
     },
     "execution_count": 26,
     "metadata": {},
     "output_type": "execute_result"
    }
   ],
   "source": [
    "d2=np.asarray(d3,dtype=float,order='c')\n",
    "d2\n"
   ]
  },
  {
   "cell_type": "code",
   "execution_count": 35,
   "id": "82f66325",
   "metadata": {},
   "outputs": [
    {
     "data": {
      "text/plain": [
       "array([b'my', b' N', b'um', b'py', b' T', b'ut', b'or', b'ia', b'l ',\n",
       "       b'is', b' b', b'ei', b'ng', b' e', b'xe', b'cu', b'te', b'd ',\n",
       "       b'fr'], dtype='|S2')"
      ]
     },
     "execution_count": 35,
     "metadata": {},
     "output_type": "execute_result"
    }
   ],
   "source": [
    "buf=b\"my Numpy Tutorial is being executed fr\"\n",
    "np.frombuffer(buf,dtype='S2')"
   ]
  },
  {
   "cell_type": "code",
   "execution_count": 3,
   "id": "7e53e471",
   "metadata": {},
   "outputs": [],
   "source": [
    "graph=[[0,10,15,20],[10,0,35,25],[15,35,0,30],[20,25,30,0],[20,25,30,0]]"
   ]
  },
  {
   "cell_type": "code",
   "execution_count": 4,
   "id": "a2cb26f9",
   "metadata": {},
   "outputs": [
    {
     "data": {
      "text/plain": [
       "4"
      ]
     },
     "execution_count": 4,
     "metadata": {},
     "output_type": "execute_result"
    }
   ],
   "source": [
    "len(graph[0])"
   ]
  },
  {
   "cell_type": "code",
   "execution_count": 5,
   "id": "cd7d23fd",
   "metadata": {},
   "outputs": [
    {
     "data": {
      "text/plain": [
       "5"
      ]
     },
     "execution_count": 5,
     "metadata": {},
     "output_type": "execute_result"
    }
   ],
   "source": [
    "len(graph)"
   ]
  },
  {
   "cell_type": "code",
   "execution_count": null,
   "id": "74f04732",
   "metadata": {},
   "outputs": [],
   "source": []
  }
 ],
 "metadata": {
  "kernelspec": {
   "display_name": "Python 3 (ipykernel)",
   "language": "python",
   "name": "python3"
  },
  "language_info": {
   "codemirror_mode": {
    "name": "ipython",
    "version": 3
   },
   "file_extension": ".py",
   "mimetype": "text/x-python",
   "name": "python",
   "nbconvert_exporter": "python",
   "pygments_lexer": "ipython3",
   "version": "3.9.7"
  }
 },
 "nbformat": 4,
 "nbformat_minor": 5
}
