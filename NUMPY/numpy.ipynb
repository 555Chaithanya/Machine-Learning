{
 "cells": [
  {
   "cell_type": "code",
   "execution_count": 69,
   "id": "fe363022",
   "metadata": {},
   "outputs": [
    {
     "name": "stdout",
     "output_type": "stream",
     "text": [
      "[1 2 3 4 5]\n",
      "<class 'numpy.ndarray'>\n"
     ]
    }
   ],
   "source": [
    "\n",
    "import numpy as np\n",
    "arr=np.array([1,2,3,4,5])\n",
    "print(arr)\n",
    "print(type(arr))"
   ]
  },
  {
   "cell_type": "code",
   "execution_count": 70,
   "id": "f10995b8",
   "metadata": {},
   "outputs": [
    {
     "data": {
      "text/plain": [
       "array([1., 1., 1., 1., 1.])"
      ]
     },
     "execution_count": 70,
     "metadata": {},
     "output_type": "execute_result"
    }
   ],
   "source": [
    "arr2=np.ones(5)\n",
    "arr2"
   ]
  },
  {
   "cell_type": "markdown",
   "id": "6e89f2fb",
   "metadata": {},
   "source": [
    "## arr3=np.arange(10)\n",
    "arr3"
   ]
  },
  {
   "cell_type": "code",
   "execution_count": 71,
   "id": "a2236607",
   "metadata": {},
   "outputs": [
    {
     "data": {
      "text/plain": [
       "array([0., 0., 0., 0., 0.])"
      ]
     },
     "execution_count": 71,
     "metadata": {},
     "output_type": "execute_result"
    }
   ],
   "source": [
    "arr4=np.zeros(5)\n",
    "arr4"
   ]
  },
  {
   "cell_type": "markdown",
   "id": "96df6774",
   "metadata": {},
   "source": []
  },
  {
   "cell_type": "code",
   "execution_count": 72,
   "id": "f643d667",
   "metadata": {},
   "outputs": [
    {
     "data": {
      "text/plain": [
       "array([[4, 4, 4],\n",
       "       [4, 4, 4]])"
      ]
     },
     "execution_count": 72,
     "metadata": {},
     "output_type": "execute_result"
    }
   ],
   "source": [
    "arr5=np.full((2,3),4)\n",
    "arr5"
   ]
  },
  {
   "cell_type": "code",
   "execution_count": 73,
   "id": "bdfbb9af",
   "metadata": {},
   "outputs": [],
   "source": [
    "import numpy as np"
   ]
  },
  {
   "cell_type": "code",
   "execution_count": 74,
   "id": "a47be909",
   "metadata": {},
   "outputs": [
    {
     "name": "stdout",
     "output_type": "stream",
     "text": [
      "[[1. 0. 0. 0. 0.]\n",
      " [0. 1. 0. 0. 0.]\n",
      " [0. 0. 1. 0. 0.]\n",
      " [0. 0. 0. 1. 0.]\n",
      " [0. 0. 0. 0. 1.]]\n",
      "Array after Reshaping:\n",
      " [[1. 0. 0. 0. 0. 0. 1. 0. 0. 0. 0. 0. 1. 0. 0. 0. 0. 0. 1. 0. 0. 0. 0. 0.\n",
      "  1.]]\n"
     ]
    }
   ],
   "source": [
    "arr6=np.eye(5)\n",
    "print(arr6)\n",
    "arr7=np.reshape(arr6,(1,25))\n",
    "print(\"Array after Reshaping:\\n\",arr7)"
   ]
  },
  {
   "cell_type": "code",
   "execution_count": 75,
   "id": "c582819b",
   "metadata": {},
   "outputs": [
    {
     "data": {
      "text/plain": [
       "(5, 5)"
      ]
     },
     "execution_count": 75,
     "metadata": {},
     "output_type": "execute_result"
    }
   ],
   "source": [
    "np.shape(arr6)"
   ]
  },
  {
   "cell_type": "code",
   "execution_count": null,
   "id": "c0152adb",
   "metadata": {},
   "outputs": [],
   "source": []
  },
  {
   "cell_type": "code",
   "execution_count": 76,
   "id": "703cb4ed",
   "metadata": {},
   "outputs": [
    {
     "data": {
      "text/plain": [
       "array([[1., 0., 0., 0., 0., 0., 1., 0., 0., 0., 0., 0., 1., 0., 0., 0.,\n",
       "        0., 0., 1., 0., 0., 0., 0., 0., 1.]])"
      ]
     },
     "execution_count": 76,
     "metadata": {},
     "output_type": "execute_result"
    }
   ],
   "source": [
    "arr7"
   ]
  },
  {
   "cell_type": "code",
   "execution_count": 77,
   "id": "9ae584cd",
   "metadata": {},
   "outputs": [
    {
     "data": {
      "text/plain": [
       "(1, 25)"
      ]
     },
     "execution_count": 77,
     "metadata": {},
     "output_type": "execute_result"
    }
   ],
   "source": [
    "arr7.shape"
   ]
  },
  {
   "cell_type": "code",
   "execution_count": 78,
   "id": "9fe8a4a9",
   "metadata": {},
   "outputs": [
    {
     "data": {
      "text/plain": [
       "array([[[[[[4, 5, 6, 7, 8, 9]]]]]])"
      ]
     },
     "execution_count": 78,
     "metadata": {},
     "output_type": "execute_result"
    }
   ],
   "source": [
    "arr8=np.array([4,5,6,7,8,9],ndmin=6)\n",
    "arr8"
   ]
  },
  {
   "cell_type": "code",
   "execution_count": 79,
   "id": "b93f82d9",
   "metadata": {},
   "outputs": [
    {
     "data": {
      "text/plain": [
       "(1, 1, 1, 1, 1, 6)"
      ]
     },
     "execution_count": 79,
     "metadata": {},
     "output_type": "execute_result"
    }
   ],
   "source": [
    "arr8.shape"
   ]
  },
  {
   "cell_type": "code",
   "execution_count": 80,
   "id": "cbcb7e49",
   "metadata": {},
   "outputs": [
    {
     "data": {
      "text/plain": [
       "array([[[[[[4, 5, 6, 7, 8, 9]]]]]])"
      ]
     },
     "execution_count": 80,
     "metadata": {},
     "output_type": "execute_result"
    }
   ],
   "source": [
    "arr8.reshape(1,6)\n",
    "arr8"
   ]
  },
  {
   "cell_type": "raw",
   "id": "1ec53af3",
   "metadata": {},
   "source": [
    "arr"
   ]
  },
  {
   "cell_type": "code",
   "execution_count": 81,
   "id": "5e7e7085",
   "metadata": {},
   "outputs": [],
   "source": [
    "arr10=np.array([7,8,9,10,11])"
   ]
  },
  {
   "cell_type": "code",
   "execution_count": 82,
   "id": "c8c925c3",
   "metadata": {},
   "outputs": [
    {
     "data": {
      "text/plain": [
       "array([ 7,  8,  9, 10, 11])"
      ]
     },
     "execution_count": 82,
     "metadata": {},
     "output_type": "execute_result"
    }
   ],
   "source": [
    "arr10"
   ]
  },
  {
   "cell_type": "code",
   "execution_count": 83,
   "id": "8e688c73",
   "metadata": {},
   "outputs": [],
   "source": [
    "arr11=np.concatenate((arr,arr10))"
   ]
  },
  {
   "cell_type": "code",
   "execution_count": 84,
   "id": "3dd0ae5a",
   "metadata": {},
   "outputs": [
    {
     "data": {
      "text/plain": [
       "array([ 1,  2,  3,  4,  5,  7,  8,  9, 10, 11])"
      ]
     },
     "execution_count": 84,
     "metadata": {},
     "output_type": "execute_result"
    }
   ],
   "source": [
    "arr11"
   ]
  },
  {
   "cell_type": "code",
   "execution_count": 85,
   "id": "10358e1e",
   "metadata": {},
   "outputs": [],
   "source": [
    "arr13=np.stack((arr,arr10),axis=1)"
   ]
  },
  {
   "cell_type": "code",
   "execution_count": 86,
   "id": "88a06b4a",
   "metadata": {},
   "outputs": [
    {
     "name": "stdout",
     "output_type": "stream",
     "text": [
      "[[ 1  7]\n",
      " [ 2  8]\n",
      " [ 3  9]\n",
      " [ 4 10]\n",
      " [ 5 11]]\n",
      "Array flattening row wise [ 1  7  2  8  3  9  4 10  5 11]\n",
      "Array flattening column wise [ 1  2  3  4  5  7  8  9 10 11]\n"
     ]
    }
   ],
   "source": [
    "arr13=np.array([[ 1,  7],\n",
    "       [ 2,  8],\n",
    "       [ 3,  9],\n",
    "       [ 4, 10],\n",
    "       [ 5, 11]])\n",
    "print(arr13)\n",
    "arr15=arr13.flatten(order='C')\n",
    "print('Array flattening row wise',arr15)\n",
    "arr16=arr13.flatten(order='F')\n",
    "print('Array flattening column wise',arr16)"
   ]
  },
  {
   "cell_type": "code",
   "execution_count": 87,
   "id": "0d34b5a2",
   "metadata": {},
   "outputs": [
    {
     "data": {
      "text/plain": [
       "array([ 1,  2,  3,  4,  5,  7,  8,  9, 10, 11])"
      ]
     },
     "execution_count": 87,
     "metadata": {},
     "output_type": "execute_result"
    }
   ],
   "source": [
    "arr14=np.hstack((arr,arr10))\n",
    "arr14"
   ]
  },
  {
   "cell_type": "code",
   "execution_count": 88,
   "id": "16d7cd81",
   "metadata": {},
   "outputs": [
    {
     "data": {
      "text/plain": [
       "1"
      ]
     },
     "execution_count": 88,
     "metadata": {},
     "output_type": "execute_result"
    }
   ],
   "source": [
    "arr14.ndim"
   ]
  },
  {
   "cell_type": "code",
   "execution_count": 89,
   "id": "5dcfff2a",
   "metadata": {},
   "outputs": [
    {
     "data": {
      "text/plain": [
       "2"
      ]
     },
     "execution_count": 89,
     "metadata": {},
     "output_type": "execute_result"
    }
   ],
   "source": [
    "arr13.ndim"
   ]
  },
  {
   "cell_type": "code",
   "execution_count": 90,
   "id": "3026dc0a",
   "metadata": {},
   "outputs": [
    {
     "data": {
      "text/plain": [
       "6"
      ]
     },
     "execution_count": 90,
     "metadata": {},
     "output_type": "execute_result"
    }
   ],
   "source": [
    "arr8.ndim"
   ]
  },
  {
   "cell_type": "code",
   "execution_count": 91,
   "id": "2aa5bb1d",
   "metadata": {},
   "outputs": [
    {
     "data": {
      "text/plain": [
       "6"
      ]
     },
     "execution_count": 91,
     "metadata": {},
     "output_type": "execute_result"
    }
   ],
   "source": [
    "arr8.size"
   ]
  },
  {
   "cell_type": "code",
   "execution_count": 92,
   "id": "c6b7d1d4",
   "metadata": {},
   "outputs": [
    {
     "data": {
      "text/plain": [
       "10"
      ]
     },
     "execution_count": 92,
     "metadata": {},
     "output_type": "execute_result"
    }
   ],
   "source": [
    "arr13.size"
   ]
  },
  {
   "cell_type": "code",
   "execution_count": 93,
   "id": "0959ddcb",
   "metadata": {},
   "outputs": [
    {
     "data": {
      "text/plain": [
       "10"
      ]
     },
     "execution_count": 93,
     "metadata": {},
     "output_type": "execute_result"
    }
   ],
   "source": [
    "arr14.size"
   ]
  },
  {
   "cell_type": "code",
   "execution_count": 94,
   "id": "877081a4",
   "metadata": {},
   "outputs": [
    {
     "data": {
      "text/plain": [
       "array([ 1,  7,  2,  8,  3,  9,  4, 10,  5, 11])"
      ]
     },
     "execution_count": 94,
     "metadata": {},
     "output_type": "execute_result"
    }
   ],
   "source": [
    "arr15=arr13.flatten(order='C')\n",
    "arr15"
   ]
  },
  {
   "cell_type": "code",
   "execution_count": 95,
   "id": "b91117d3",
   "metadata": {},
   "outputs": [
    {
     "data": {
      "text/plain": [
       "array([ 1,  2,  3,  4,  5,  7,  8,  9, 10, 11])"
      ]
     },
     "execution_count": 95,
     "metadata": {},
     "output_type": "execute_result"
    }
   ],
   "source": [
    "arr16=arr13.flatten(order='F')\n",
    "arr16"
   ]
  },
  {
   "cell_type": "code",
   "execution_count": 96,
   "id": "aaf78afe",
   "metadata": {},
   "outputs": [
    {
     "data": {
      "text/plain": [
       "array([4, 5, 6, 7, 8, 9])"
      ]
     },
     "execution_count": 96,
     "metadata": {},
     "output_type": "execute_result"
    }
   ],
   "source": [
    "arr17=arr8.flatten(order='C')\n",
    "arr17"
   ]
  },
  {
   "cell_type": "code",
   "execution_count": 97,
   "id": "d7f359ed",
   "metadata": {},
   "outputs": [
    {
     "name": "stdout",
     "output_type": "stream",
     "text": [
      "Original \n",
      " [[ 1  7]\n",
      " [ 2  8]\n",
      " [ 3  9]\n",
      " [ 4 10]\n",
      " [ 5 11]] \n",
      " Shape (5, 2)\n",
      "Expand along columns: \n",
      " [[ 1  2  3  4  5]\n",
      " [ 7  8  9 10 11]] \n",
      " Shape (2, 5)\n"
     ]
    }
   ],
   "source": [
    "arr13=np.array([[ 1,  7],\n",
    "       [ 2,  8],\n",
    "       [ 3,  9],\n",
    "       [ 4, 10],\n",
    "       [ 5, 11]])\n",
    "print('Original','\\n',arr13,'\\n','Shape',arr13.shape)\n",
    "arr18=arr13.transpose()\n",
    "print('Expand along columns:','\\n',arr18,'\\n','Shape',arr18.shape)\n"
   ]
  },
  {
   "cell_type": "code",
   "execution_count": 98,
   "id": "8fc0b528",
   "metadata": {},
   "outputs": [
    {
     "data": {
      "text/plain": [
       "array([[ 1,  2,  3,  4,  5],\n",
       "       [ 7,  8,  9, 10, 11]])"
      ]
     },
     "execution_count": 98,
     "metadata": {},
     "output_type": "execute_result"
    }
   ],
   "source": [
    "arr18"
   ]
  },
  {
   "cell_type": "code",
   "execution_count": 99,
   "id": "2863fb53",
   "metadata": {},
   "outputs": [
    {
     "data": {
      "text/plain": [
       "array([[ 1,  7],\n",
       "       [ 2,  8],\n",
       "       [ 3,  9],\n",
       "       [ 4, 10],\n",
       "       [ 5, 11]])"
      ]
     },
     "execution_count": 99,
     "metadata": {},
     "output_type": "execute_result"
    }
   ],
   "source": [
    "arr18.T"
   ]
  },
  {
   "cell_type": "code",
   "execution_count": 100,
   "id": "2ed37474",
   "metadata": {},
   "outputs": [
    {
     "data": {
      "text/plain": [
       "array([[ 1,  7,  0,  0,  0,  0,  0,  0,  0,  0,  0,  0],\n",
       "       [ 2,  8,  0,  0,  0,  0,  0,  0,  0,  0,  0,  0],\n",
       "       [ 3,  9,  0,  0,  0,  0,  0,  0,  0,  0,  0,  0],\n",
       "       [ 4, 10,  0,  0,  0,  0,  0,  0,  0,  0,  0,  0],\n",
       "       [ 5, 11,  0,  0,  0,  0,  0,  0,  0,  0,  0,  0]])"
      ]
     },
     "execution_count": 100,
     "metadata": {},
     "output_type": "execute_result"
    }
   ],
   "source": [
    "arr20=np.pad(arr13,pad_width=((0, 0), (0, 10)),mode='constant', constant_values=0)\n",
    "arr20"
   ]
  },
  {
   "cell_type": "code",
   "execution_count": 101,
   "id": "9e4660fe",
   "metadata": {},
   "outputs": [],
   "source": [
    "arr21=np.pad(arr13,pad_width=((0, 0), (0, 2)),mode='reflect')"
   ]
  },
  {
   "cell_type": "code",
   "execution_count": 102,
   "id": "612eb17a",
   "metadata": {},
   "outputs": [
    {
     "data": {
      "text/plain": [
       "array([[ 1,  7,  1,  7],\n",
       "       [ 2,  8,  2,  8],\n",
       "       [ 3,  9,  3,  9],\n",
       "       [ 4, 10,  4, 10],\n",
       "       [ 5, 11,  5, 11]])"
      ]
     },
     "execution_count": 102,
     "metadata": {},
     "output_type": "execute_result"
    }
   ],
   "source": [
    "arr21"
   ]
  },
  {
   "cell_type": "code",
   "execution_count": 103,
   "id": "ebdece3d",
   "metadata": {},
   "outputs": [
    {
     "data": {
      "text/plain": [
       "array([[[ 1],\n",
       "        [ 7],\n",
       "        [ 1],\n",
       "        [ 7]],\n",
       "\n",
       "       [[ 2],\n",
       "        [ 8],\n",
       "        [ 2],\n",
       "        [ 8]],\n",
       "\n",
       "       [[ 3],\n",
       "        [ 9],\n",
       "        [ 3],\n",
       "        [ 9]],\n",
       "\n",
       "       [[ 4],\n",
       "        [10],\n",
       "        [ 4],\n",
       "        [10]],\n",
       "\n",
       "       [[ 5],\n",
       "        [11],\n",
       "        [ 5],\n",
       "        [11]]])"
      ]
     },
     "execution_count": 103,
     "metadata": {},
     "output_type": "execute_result"
    }
   ],
   "source": [
    "arr22=np.expand_dims(arr21,axis=2)\n",
    "arr22"
   ]
  },
  {
   "cell_type": "code",
   "execution_count": 104,
   "id": "6abdb17c",
   "metadata": {},
   "outputs": [
    {
     "data": {
      "text/plain": [
       "(5, 4, 1)"
      ]
     },
     "execution_count": 104,
     "metadata": {},
     "output_type": "execute_result"
    }
   ],
   "source": [
    "arr22.shape"
   ]
  },
  {
   "cell_type": "code",
   "execution_count": 105,
   "id": "31b2dc3c",
   "metadata": {},
   "outputs": [
    {
     "data": {
      "text/plain": [
       "array([4, 5, 6, 7, 8, 9])"
      ]
     },
     "execution_count": 105,
     "metadata": {},
     "output_type": "execute_result"
    }
   ],
   "source": [
    "arr24=np.squeeze(arr8)\n",
    "arr24"
   ]
  },
  {
   "cell_type": "code",
   "execution_count": 106,
   "id": "94557e7f",
   "metadata": {},
   "outputs": [
    {
     "data": {
      "text/plain": [
       "array([[[[[[4, 5, 6, 7, 8, 9]]]]]])"
      ]
     },
     "execution_count": 106,
     "metadata": {},
     "output_type": "execute_result"
    }
   ],
   "source": [
    "arr8"
   ]
  },
  {
   "cell_type": "code",
   "execution_count": 107,
   "id": "c6c796e6",
   "metadata": {},
   "outputs": [
    {
     "data": {
      "text/plain": [
       "array([[ 1,  1,  7,  7],\n",
       "       [ 2,  2,  8,  8],\n",
       "       [ 3,  3,  9,  9],\n",
       "       [ 4,  4, 10, 10],\n",
       "       [ 5,  5, 11, 11]])"
      ]
     },
     "execution_count": 107,
     "metadata": {},
     "output_type": "execute_result"
    }
   ],
   "source": [
    "np.sort(arr21,axis=1)"
   ]
  },
  {
   "cell_type": "code",
   "execution_count": 108,
   "id": "ba4c4d1f",
   "metadata": {},
   "outputs": [
    {
     "data": {
      "text/plain": [
       "array([[ 1,  7,  1,  7],\n",
       "       [ 2,  8,  2,  8],\n",
       "       [ 3,  9,  3,  9],\n",
       "       [ 4, 10,  4, 10],\n",
       "       [ 5, 11,  5, 11]])"
      ]
     },
     "execution_count": 108,
     "metadata": {},
     "output_type": "execute_result"
    }
   ],
   "source": [
    "arr21"
   ]
  },
  {
   "cell_type": "code",
   "execution_count": 109,
   "id": "3ef3608e",
   "metadata": {},
   "outputs": [
    {
     "data": {
      "text/plain": [
       "array([[0, 0, 0, 0],\n",
       "       [0, 0, 0, 0],\n",
       "       [0, 0, 0, 0],\n",
       "       [0, 0, 0, 0],\n",
       "       [0, 0, 0, 0]])"
      ]
     },
     "execution_count": 109,
     "metadata": {},
     "output_type": "execute_result"
    }
   ],
   "source": [
    "res=np.zeros_like(arr21)\n",
    "res"
   ]
  },
  {
   "cell_type": "code",
   "execution_count": 110,
   "id": "b77a702f",
   "metadata": {},
   "outputs": [
    {
     "data": {
      "text/plain": [
       "array([2, 1, 3, 1])"
      ]
     },
     "execution_count": 110,
     "metadata": {},
     "output_type": "execute_result"
    }
   ],
   "source": [
    "mul=np.array([2,1,3,1])\n",
    "mul"
   ]
  },
  {
   "cell_type": "code",
   "execution_count": 111,
   "id": "bff69df2",
   "metadata": {},
   "outputs": [
    {
     "data": {
      "text/plain": [
       "array([[ 2,  7,  3,  7],\n",
       "       [ 4,  8,  6,  8],\n",
       "       [ 6,  9,  9,  9],\n",
       "       [ 8, 10, 12, 10],\n",
       "       [10, 11, 15, 11]])"
      ]
     },
     "execution_count": 111,
     "metadata": {},
     "output_type": "execute_result"
    }
   ],
   "source": [
    "for i in range(arr21.shape[0]):\n",
    "    res[i,:]=arr21[i,:]*mul\n",
    "res"
   ]
  },
  {
   "cell_type": "code",
   "execution_count": 112,
   "id": "9912da58",
   "metadata": {},
   "outputs": [
    {
     "data": {
      "text/plain": [
       "array([[ 7, 12,  8, 12],\n",
       "       [ 9, 13, 11, 13],\n",
       "       [11, 14, 14, 14],\n",
       "       [13, 15, 17, 15],\n",
       "       [15, 16, 20, 16]])"
      ]
     },
     "execution_count": 112,
     "metadata": {},
     "output_type": "execute_result"
    }
   ],
   "source": [
    "res1=res+5\n",
    "res1"
   ]
  },
  {
   "cell_type": "markdown",
   "id": "f6b67dfb",
   "metadata": {},
   "source": [
    "# broadcasting is multiplication of two numpy arrays"
   ]
  },
  {
   "cell_type": "code",
   "execution_count": 113,
   "id": "4239e967",
   "metadata": {},
   "outputs": [
    {
     "data": {
      "text/plain": [
       "array([[ 14,  84,  24,  84],\n",
       "       [ 36, 104,  66, 104],\n",
       "       [ 66, 126, 126, 126],\n",
       "       [104, 150, 204, 150],\n",
       "       [150, 176, 300, 176]])"
      ]
     },
     "execution_count": 113,
     "metadata": {},
     "output_type": "execute_result"
    }
   ],
   "source": [
    "res2=res*res1\n",
    "res2"
   ]
  },
  {
   "cell_type": "code",
   "execution_count": 114,
   "id": "f1f266b8",
   "metadata": {},
   "outputs": [
    {
     "name": "stdout",
     "output_type": "stream",
     "text": [
      "Adding arrays along the axis:\n",
      " [11. 22. 33.]\n",
      "Adding arrays along new axis:\n",
      " [[11. 12. 13.]\n",
      " [21. 22. 23.]\n",
      " [31. 32. 33.]]\n"
     ]
    }
   ],
   "source": [
    "a = np.array([10.0, 20.0, 30.0])\n",
    "b = np.array([1.0, 2.0, 3.0])\n",
    "c=a[:, np.newaxis] + b\n",
    "d=a+b\n",
    "print('Adding arrays along the axis:\\n',d)\n",
    "print('Adding arrays along new axis:\\n',c)"
   ]
  },
  {
   "cell_type": "code",
   "execution_count": 115,
   "id": "dca2947b",
   "metadata": {},
   "outputs": [
    {
     "name": "stdout",
     "output_type": "stream",
     "text": [
      "[[11 59 54]\n",
      " [50 55 67]]\n",
      "+\n",
      " 4\n",
      "=\n",
      " [[15 63 58]\n",
      " [54 59 71]]\n"
     ]
    }
   ],
   "source": [
    "A = np.array([[11, 59, 54], [50, 55, 67]])\n",
    "print(A)\n",
    "b = 4\n",
    "print('+\\n',b)\n",
    "C = A + b\n",
    "print('=\\n',C)"
   ]
  },
  {
   "cell_type": "code",
   "execution_count": 116,
   "id": "041c47e9",
   "metadata": {},
   "outputs": [
    {
     "data": {
      "text/plain": [
       "array([17.49285568, 21.58703314, 73.79024326, 56.04462508])"
      ]
     },
     "execution_count": 116,
     "metadata": {},
     "output_type": "execute_result"
    }
   ],
   "source": [
    "from numpy import array, argmin, sqrt, sum\n",
    "observation = array([111.0, 188.0])\n",
    "codes = array([[102.0, 203.0],\n",
    "               [132.0, 193.0],\n",
    "               [45.0, 155.0],\n",
    "               [57.0, 173.0]])\n",
    "diff = codes - observation\n",
    "dist = sqrt(sum(diff**2,axis=-1))\n",
    "argmin(dist)\n",
    "dist\n"
   ]
  },
  {
   "cell_type": "code",
   "execution_count": 117,
   "id": "21ca01ca",
   "metadata": {},
   "outputs": [
    {
     "data": {
      "text/plain": [
       "array([1, 2, 3, 4, 5, 6, 7, 8, 9])"
      ]
     },
     "execution_count": 117,
     "metadata": {},
     "output_type": "execute_result"
    }
   ],
   "source": [
    "a=np.arange(1,10)\n",
    "a"
   ]
  },
  {
   "cell_type": "code",
   "execution_count": 118,
   "id": "c29de9c2",
   "metadata": {},
   "outputs": [
    {
     "data": {
      "text/plain": [
       "array([[[ 0,  1,  2,  3,  4],\n",
       "        [ 5,  6,  7,  8,  9]],\n",
       "\n",
       "       [[10, 11, 12, 13, 14],\n",
       "        [15, 16, 17, 18, 19]],\n",
       "\n",
       "       [[20, 21, 22, 23, 24],\n",
       "        [25, 26, 27, 28, 29]]])"
      ]
     },
     "execution_count": 118,
     "metadata": {},
     "output_type": "execute_result"
    }
   ],
   "source": [
    "a1=np.array(\n",
    "[\n",
    "    [\n",
    "        [0,1,2,3,4],[5,6,7,8,9]\n",
    "    ],\n",
    "    [\n",
    "        [10,11,12,13,14],[15,16,17,18,19]\n",
    "    ],\n",
    "    [\n",
    "        [20,21,22,23,24],[25,26,27,28,29]\n",
    "    ],\n",
    "    \n",
    "]\n",
    ")\n",
    "a1"
   ]
  },
  {
   "cell_type": "code",
   "execution_count": 119,
   "id": "133f90d7",
   "metadata": {},
   "outputs": [
    {
     "data": {
      "text/plain": [
       "array([[[ 1,  2,  3]],\n",
       "\n",
       "       [[11, 12, 13]]])"
      ]
     },
     "execution_count": 119,
     "metadata": {},
     "output_type": "execute_result"
    }
   ],
   "source": [
    "a1[0:2,0:1,1:4]"
   ]
  },
  {
   "cell_type": "code",
   "execution_count": 120,
   "id": "2005619f",
   "metadata": {},
   "outputs": [
    {
     "name": "stdout",
     "output_type": "stream",
     "text": [
      "Values of 1D array is:\n",
      " [0.91390555 0.41454825 0.84675349 0.90130654 0.36977729 0.18232874\n",
      " 0.56869656 0.59338919 0.45469616 0.04431514]\n"
     ]
    }
   ],
   "source": [
    "array = np.random.rand(10)\n",
    "print (\"Values of 1D array is:\\n\", array)"
   ]
  },
  {
   "cell_type": "code",
   "execution_count": 121,
   "id": "26ecfdcc",
   "metadata": {},
   "outputs": [
    {
     "name": "stdout",
     "output_type": "stream",
     "text": [
      "[1 2 3 4 5 6]\n"
     ]
    }
   ],
   "source": [
    "arr = np.array([1, 2, 3, 4, 5,6])\n",
    "print(arr)\n"
   ]
  },
  {
   "cell_type": "code",
   "execution_count": 122,
   "id": "e4494b95",
   "metadata": {},
   "outputs": [
    {
     "name": "stdout",
     "output_type": "stream",
     "text": [
      "[ 2  4  6  8 10 12 14]\n"
     ]
    }
   ],
   "source": [
    "array_1=np.arange(2,16,2)\n",
    "print(array_1)"
   ]
  },
  {
   "cell_type": "code",
   "execution_count": 123,
   "id": "51ddfaf6",
   "metadata": {},
   "outputs": [
    {
     "name": "stdout",
     "output_type": "stream",
     "text": [
      "Array :\n",
      " [[ 1  2  3]\n",
      " [ 4 44  5]]\n",
      "Dimensions : 2\n"
     ]
    }
   ],
   "source": [
    "a = np.array([[1,2,3],[4,44,5]])\n",
    "print('Array :\\n',a)\n",
    "print('Dimensions :',a.ndim)"
   ]
  },
  {
   "cell_type": "code",
   "execution_count": 124,
   "id": "4d28fcfd",
   "metadata": {},
   "outputs": [
    {
     "name": "stdout",
     "output_type": "stream",
     "text": [
      "Array :\n",
      " [[10 21 32]\n",
      " [43 54 65]]\n",
      "Shape : (2, 3)\n"
     ]
    }
   ],
   "source": [
    "a = np.array([[10,21,32],[43,54,65]])\n",
    "print('Array :\\n',a)\n",
    "print('Shape :',a.shape)"
   ]
  },
  {
   "cell_type": "code",
   "execution_count": 125,
   "id": "fe0c88f4",
   "metadata": {},
   "outputs": [
    {
     "name": "stdout",
     "output_type": "stream",
     "text": [
      "Size of array : 6\n"
     ]
    }
   ],
   "source": [
    "a = np.array([[10,21,32],[43,54,65]])\n",
    "print('Size of array :',a.size)"
   ]
  },
  {
   "cell_type": "code",
   "execution_count": 126,
   "id": "b10e072a",
   "metadata": {},
   "outputs": [
    {
     "name": "stdout",
     "output_type": "stream",
     "text": [
      "Original:\n",
      " Shape (3,) \n",
      " [1 2 3]\n",
      "Expand along columns:\n",
      " Shape (1, 3) \n",
      " [[1 2 3]]\n",
      "Expand along rows:\n",
      " Shape (3, 1) \n",
      " [[1]\n",
      " [2]\n",
      " [3]]\n"
     ]
    }
   ],
   "source": [
    "a = np.array([1,2,3])\n",
    "b = np.expand_dims(a,axis=0)\n",
    "c = np.expand_dims(a,axis=1)\n",
    "print('Original:\\n','Shape',a.shape,'\\n',a)\n",
    "print('Expand along columns:\\n','Shape',b.shape,'\\n',b)\n",
    "print('Expand along rows:\\n','Shape',c.shape,'\\n',c)"
   ]
  },
  {
   "cell_type": "code",
   "execution_count": 127,
   "id": "4bd3e9a0",
   "metadata": {},
   "outputs": [
    {
     "name": "stdout",
     "output_type": "stream",
     "text": [
      "Original\n",
      " Shape (1, 2, 3) \n",
      " [[[1 2 3]\n",
      "  [4 5 6]]]\n",
      "Squeeze array:\n",
      " Shape (2, 3) \n",
      " [[1 2 3]\n",
      " [4 5 6]]\n"
     ]
    }
   ],
   "source": [
    "a = np.array([[[1,2,3],\n",
    "[4,5,6]]])\n",
    "b = np.squeeze(a, axis=0)\n",
    "print('Original\\n','Shape',a.shape,'\\n',a)\n",
    "print('Squeeze array:\\n','Shape',b.shape,'\\n',b)"
   ]
  },
  {
   "cell_type": "code",
   "execution_count": 128,
   "id": "af124fe6",
   "metadata": {},
   "outputs": [
    {
     "name": "stdout",
     "output_type": "stream",
     "text": [
      "Along first axis : \n",
      " [[10  1]\n",
      " [12 15]]\n",
      "\n",
      "Along negative axis : \n",
      " [[10 15]\n",
      " [ 1 12]]\n",
      "\n",
      "Along none axis : \n",
      " [ 1 10 12 15]\n"
     ]
    }
   ],
   "source": [
    "a = np.array([[12, 15], [10, 1]])\n",
    "arr1 = np.sort(a, axis = 0) \n",
    "print (\"Along first axis : \\n\", arr1) \n",
    "a = np.array([[10, 15], [12, 1]])\n",
    "arr2 = np.sort(a, axis = -1) \n",
    "print (\"\\nAlong negative axis : \\n\", arr2)\n",
    "a = np.array([[12, 15], [10, 1]])\n",
    "arr1 = np.sort(a, axis = None) \n",
    "print (\"\\nAlong none axis : \\n\", arr1)"
   ]
  },
  {
   "cell_type": "code",
   "execution_count": 129,
   "id": "ac3c3799",
   "metadata": {},
   "outputs": [
    {
     "name": "stdout",
     "output_type": "stream",
     "text": [
      "[2 3 4 5]\n"
     ]
    }
   ],
   "source": [
    "arr = np.array([1,2,3,4,5,6,7,8,9,10])\n",
    "print(arr[1:5])"
   ]
  },
  {
   "cell_type": "code",
   "execution_count": 130,
   "id": "72a6a6b2",
   "metadata": {},
   "outputs": [
    {
     "name": "stdout",
     "output_type": "stream",
     "text": [
      "[[2 3 4]]\n"
     ]
    }
   ],
   "source": [
    "arr = np.array([[10, 20, 30, 41, 52], [1,2,3,4,5]])\n",
    "print(arr[1:, 1:4])"
   ]
  },
  {
   "cell_type": "code",
   "execution_count": 131,
   "id": "a89c97e3",
   "metadata": {},
   "outputs": [
    {
     "name": "stdout",
     "output_type": "stream",
     "text": [
      "[11 21]\n"
     ]
    }
   ],
   "source": [
    "\n",
    "a3=np.array([ [[11,12,13], [14,15,16], [17,18,19]],\n",
    " [[21,22,23], [24,25,26,], [27,28,29]]])\n",
    "print(a3[0:,0,0])"
   ]
  },
  {
   "cell_type": "code",
   "execution_count": 132,
   "id": "e75d1abe",
   "metadata": {},
   "outputs": [
    {
     "name": "stdout",
     "output_type": "stream",
     "text": [
      "[59 54]\n"
     ]
    }
   ],
   "source": [
    "arr = np.array([1, 21, 32, 43, 59, 54, 7])\n",
    "print(arr[-3:-1])"
   ]
  },
  {
   "cell_type": "code",
   "execution_count": 133,
   "id": "0cc2637a",
   "metadata": {},
   "outputs": [
    {
     "name": "stdout",
     "output_type": "stream",
     "text": [
      "[2002  685    3   59]\n"
     ]
    }
   ],
   "source": [
    "arr = np.array([1,2002,7012,685 ,27, 3, 54, 59, 6, 7])\n",
    "print(arr[1:9:2])"
   ]
  },
  {
   "cell_type": "code",
   "execution_count": 134,
   "id": "05181236",
   "metadata": {},
   "outputs": [
    {
     "data": {
      "text/plain": [
       "array([[1, 2, 3, 4],\n",
       "       [3, 4, 5, 6]])"
      ]
     },
     "execution_count": 134,
     "metadata": {},
     "output_type": "execute_result"
    }
   ],
   "source": [
    "x = np.array([1,2, 3, 4])\n",
    "y = np.array([3, 4, 5,6])\n",
    "np.stack((x, y))"
   ]
  },
  {
   "cell_type": "code",
   "execution_count": 135,
   "id": "9f142f67",
   "metadata": {},
   "outputs": [
    {
     "data": {
      "text/plain": [
       "array([[1, 3],\n",
       "       [2, 4],\n",
       "       [3, 5],\n",
       "       [4, 6]])"
      ]
     },
     "execution_count": 135,
     "metadata": {},
     "output_type": "execute_result"
    }
   ],
   "source": [
    "np.stack((x, y), axis=-1)"
   ]
  },
  {
   "cell_type": "code",
   "execution_count": 136,
   "id": "8d566eba",
   "metadata": {},
   "outputs": [
    {
     "data": {
      "text/plain": [
       "array([[[ 1,  2,  3],\n",
       "        [ 4,  5,  6]],\n",
       "\n",
       "       [[ 7,  8,  9],\n",
       "        [10, 11, 12]],\n",
       "\n",
       "       [[13, 14, 15],\n",
       "        [16, 17, 18]]])"
      ]
     },
     "execution_count": 136,
     "metadata": {},
     "output_type": "execute_result"
    }
   ],
   "source": [
    "x=np.array([[1,2,3], [4,5,6]])\n",
    "y=np.array([[7,8,9], [10,11,12]])\n",
    "z=np.array([[13,14,15], [16,17,18]])\n",
    "np.stack((x,y,z),axis=0)"
   ]
  },
  {
   "cell_type": "code",
   "execution_count": 137,
   "id": "8fb5285c",
   "metadata": {},
   "outputs": [
    {
     "name": "stdout",
     "output_type": "stream",
     "text": [
      "[ 54  57  12  59  95 143]\n"
     ]
    }
   ],
   "source": [
    "arr = np.array([54, 57, 12]) \n",
    "arr1 = np.array([59, 95, 143])\n",
    "con = np.concatenate((arr, arr1)) \n",
    "print(con)"
   ]
  },
  {
   "cell_type": "code",
   "execution_count": 155,
   "id": "1d8fd608",
   "metadata": {},
   "outputs": [],
   "source": [
    "arr55=np.array([\n",
    "   [[33,11,44,22],\n",
    "    [77,88,99,55]],\n",
    "   [[76,87,98,54],\n",
    "    [32,10,43,21]]\n",
    "                  ])"
   ]
  },
  {
   "cell_type": "code",
   "execution_count": 156,
   "id": "ebc7168f",
   "metadata": {},
   "outputs": [
    {
     "data": {
      "text/plain": [
       "array([[[33, 11, 44, 22],\n",
       "        [77, 88, 99, 55]],\n",
       "\n",
       "       [[76, 87, 98, 54],\n",
       "        [32, 10, 43, 21]]])"
      ]
     },
     "execution_count": 156,
     "metadata": {},
     "output_type": "execute_result"
    }
   ],
   "source": [
    "arr55"
   ]
  },
  {
   "cell_type": "code",
   "execution_count": 157,
   "id": "f0e14d08",
   "metadata": {},
   "outputs": [],
   "source": [
    "arr56=np.sort(arr55,axis=0)\n",
    "arr57=np.sort(arr55,axis=1)\n",
    "arr58=np.sort(arr55,axis=-1)"
   ]
  },
  {
   "cell_type": "code",
   "execution_count": 158,
   "id": "3fc2cb1d",
   "metadata": {},
   "outputs": [
    {
     "name": "stdout",
     "output_type": "stream",
     "text": [
      "[[[33 11 44 22]\n",
      "  [77 88 99 55]]\n",
      "\n",
      " [[76 87 98 54]\n",
      "  [32 10 43 21]]]\n"
     ]
    }
   ],
   "source": [
    "print(arr55)"
   ]
  },
  {
   "cell_type": "code",
   "execution_count": 159,
   "id": "84c944c4",
   "metadata": {},
   "outputs": [
    {
     "name": "stdout",
     "output_type": "stream",
     "text": [
      "[[[33 11 44 22]\n",
      "  [32 10 43 21]]\n",
      "\n",
      " [[76 87 98 54]\n",
      "  [77 88 99 55]]]\n"
     ]
    }
   ],
   "source": [
    "print(arr56)"
   ]
  },
  {
   "cell_type": "code",
   "execution_count": 162,
   "id": "76d445df",
   "metadata": {},
   "outputs": [
    {
     "name": "stdout",
     "output_type": "stream",
     "text": [
      "[[[33 11 44 22]\n",
      "  [77 88 99 55]]\n",
      "\n",
      " [[32 10 43 21]\n",
      "  [76 87 98 54]]]\n"
     ]
    }
   ],
   "source": [
    "print(arr57)"
   ]
  },
  {
   "cell_type": "code",
   "execution_count": 163,
   "id": "09f77989",
   "metadata": {},
   "outputs": [
    {
     "name": "stdout",
     "output_type": "stream",
     "text": [
      "[[[11 22 33 44]\n",
      "  [55 77 88 99]]\n",
      "\n",
      " [[54 76 87 98]\n",
      "  [10 21 32 43]]]\n"
     ]
    }
   ],
   "source": [
    "print(arr58)"
   ]
  },
  {
   "cell_type": "code",
   "execution_count": null,
   "id": "89694778",
   "metadata": {},
   "outputs": [],
   "source": []
  },
  {
   "cell_type": "code",
   "execution_count": null,
   "id": "09188fdb",
   "metadata": {},
   "outputs": [],
   "source": []
  },
  {
   "cell_type": "code",
   "execution_count": null,
   "id": "46c3a068",
   "metadata": {},
   "outputs": [],
   "source": []
  },
  {
   "cell_type": "code",
   "execution_count": null,
   "id": "a7c632fa",
   "metadata": {},
   "outputs": [],
   "source": []
  },
  {
   "cell_type": "code",
   "execution_count": null,
   "id": "4f7a7c9b",
   "metadata": {},
   "outputs": [],
   "source": []
  },
  {
   "cell_type": "code",
   "execution_count": null,
   "id": "c587c780",
   "metadata": {},
   "outputs": [],
   "source": []
  },
  {
   "cell_type": "code",
   "execution_count": null,
   "id": "7056efd6",
   "metadata": {},
   "outputs": [],
   "source": []
  },
  {
   "cell_type": "code",
   "execution_count": null,
   "id": "5bc8dd53",
   "metadata": {},
   "outputs": [],
   "source": []
  },
  {
   "cell_type": "code",
   "execution_count": null,
   "id": "c22109cb",
   "metadata": {},
   "outputs": [],
   "source": []
  },
  {
   "cell_type": "code",
   "execution_count": null,
   "id": "bbff830f",
   "metadata": {},
   "outputs": [],
   "source": []
  },
  {
   "cell_type": "code",
   "execution_count": null,
   "id": "8966b8d2",
   "metadata": {},
   "outputs": [],
   "source": []
  },
  {
   "cell_type": "code",
   "execution_count": null,
   "id": "d38042e0",
   "metadata": {},
   "outputs": [],
   "source": []
  },
  {
   "cell_type": "code",
   "execution_count": null,
   "id": "7aa4070a",
   "metadata": {},
   "outputs": [],
   "source": []
  },
  {
   "cell_type": "code",
   "execution_count": null,
   "id": "2d80cd07",
   "metadata": {},
   "outputs": [],
   "source": []
  },
  {
   "cell_type": "code",
   "execution_count": null,
   "id": "5a359ebf",
   "metadata": {},
   "outputs": [],
   "source": []
  },
  {
   "cell_type": "code",
   "execution_count": null,
   "id": "e3d8d980",
   "metadata": {},
   "outputs": [],
   "source": []
  },
  {
   "cell_type": "code",
   "execution_count": null,
   "id": "cd266fee",
   "metadata": {},
   "outputs": [],
   "source": []
  },
  {
   "cell_type": "code",
   "execution_count": null,
   "id": "57b93f55",
   "metadata": {},
   "outputs": [],
   "source": []
  },
  {
   "cell_type": "code",
   "execution_count": null,
   "id": "c5bcf53a",
   "metadata": {},
   "outputs": [],
   "source": []
  },
  {
   "cell_type": "code",
   "execution_count": null,
   "id": "c5e337f3",
   "metadata": {},
   "outputs": [],
   "source": []
  },
  {
   "cell_type": "code",
   "execution_count": null,
   "id": "4c6c0d8f",
   "metadata": {},
   "outputs": [],
   "source": []
  },
  {
   "cell_type": "code",
   "execution_count": null,
   "id": "bb521d4f",
   "metadata": {},
   "outputs": [],
   "source": []
  },
  {
   "cell_type": "code",
   "execution_count": null,
   "id": "8ec2f3de",
   "metadata": {},
   "outputs": [],
   "source": []
  },
  {
   "cell_type": "code",
   "execution_count": null,
   "id": "98a2ac64",
   "metadata": {},
   "outputs": [],
   "source": []
  },
  {
   "cell_type": "code",
   "execution_count": null,
   "id": "c0e02ecc",
   "metadata": {},
   "outputs": [],
   "source": []
  },
  {
   "cell_type": "code",
   "execution_count": null,
   "id": "42ed2280",
   "metadata": {},
   "outputs": [],
   "source": []
  },
  {
   "cell_type": "code",
   "execution_count": null,
   "id": "ff04fe27",
   "metadata": {},
   "outputs": [],
   "source": []
  },
  {
   "cell_type": "code",
   "execution_count": null,
   "id": "dad631b3",
   "metadata": {},
   "outputs": [],
   "source": []
  },
  {
   "cell_type": "code",
   "execution_count": null,
   "id": "04379b8d",
   "metadata": {},
   "outputs": [],
   "source": []
  },
  {
   "cell_type": "code",
   "execution_count": null,
   "id": "26821983",
   "metadata": {},
   "outputs": [],
   "source": []
  },
  {
   "cell_type": "code",
   "execution_count": null,
   "id": "a4ced566",
   "metadata": {},
   "outputs": [],
   "source": []
  },
  {
   "cell_type": "code",
   "execution_count": null,
   "id": "2da58225",
   "metadata": {},
   "outputs": [],
   "source": []
  },
  {
   "cell_type": "code",
   "execution_count": null,
   "id": "b51cbecc",
   "metadata": {},
   "outputs": [],
   "source": []
  },
  {
   "cell_type": "code",
   "execution_count": null,
   "id": "21569259",
   "metadata": {},
   "outputs": [],
   "source": []
  },
  {
   "cell_type": "code",
   "execution_count": null,
   "id": "b9ff3d1b",
   "metadata": {},
   "outputs": [],
   "source": []
  },
  {
   "cell_type": "code",
   "execution_count": null,
   "id": "88e845b0",
   "metadata": {},
   "outputs": [],
   "source": []
  },
  {
   "cell_type": "code",
   "execution_count": null,
   "id": "e866f260",
   "metadata": {},
   "outputs": [],
   "source": []
  },
  {
   "cell_type": "code",
   "execution_count": null,
   "id": "f52cca3b",
   "metadata": {},
   "outputs": [],
   "source": []
  },
  {
   "cell_type": "code",
   "execution_count": null,
   "id": "480b92bd",
   "metadata": {},
   "outputs": [],
   "source": []
  },
  {
   "cell_type": "code",
   "execution_count": null,
   "id": "a051da5c",
   "metadata": {},
   "outputs": [],
   "source": []
  },
  {
   "cell_type": "code",
   "execution_count": null,
   "id": "4746d684",
   "metadata": {},
   "outputs": [],
   "source": []
  },
  {
   "cell_type": "code",
   "execution_count": null,
   "id": "67f97082",
   "metadata": {},
   "outputs": [],
   "source": []
  },
  {
   "cell_type": "code",
   "execution_count": null,
   "id": "0e6986aa",
   "metadata": {},
   "outputs": [],
   "source": []
  }
 ],
 "metadata": {
  "kernelspec": {
   "display_name": "Python 3 (ipykernel)",
   "language": "python",
   "name": "python3"
  },
  "language_info": {
   "codemirror_mode": {
    "name": "ipython",
    "version": 3
   },
   "file_extension": ".py",
   "mimetype": "text/x-python",
   "name": "python",
   "nbconvert_exporter": "python",
   "pygments_lexer": "ipython3",
   "version": "3.9.7"
  },
  "vscode": {
   "interpreter": {
    "hash": "e4dd96cade9e1342bfa5a40c7177f7332ffea31aaba7603ef3db450e0cc726d5"
   }
  }
 },
 "nbformat": 4,
 "nbformat_minor": 5
}
