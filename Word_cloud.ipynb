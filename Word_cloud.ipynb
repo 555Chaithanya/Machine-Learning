{
 "cells": [
  {
   "cell_type": "code",
   "execution_count": 14,
   "id": "0d7c7972",
   "metadata": {},
   "outputs": [
    {
     "name": "stdout",
     "output_type": "stream",
     "text": [
      "Requirement already satisfied: pywaffle in f:\\anacondapy\\lib\\site-packages (1.1.0)\n",
      "Requirement already satisfied: fontawesomefree in f:\\anacondapy\\lib\\site-packages (from pywaffle) (6.3.0)\n",
      "Requirement already satisfied: matplotlib in f:\\anacondapy\\lib\\site-packages (from pywaffle) (3.4.3)\n",
      "Requirement already satisfied: numpy>=1.16 in f:\\anacondapy\\lib\\site-packages (from matplotlib->pywaffle) (1.20.3)\n",
      "Requirement already satisfied: kiwisolver>=1.0.1 in f:\\anacondapy\\lib\\site-packages (from matplotlib->pywaffle) (1.3.1)\n",
      "Requirement already satisfied: pyparsing>=2.2.1 in f:\\anacondapy\\lib\\site-packages (from matplotlib->pywaffle) (3.0.4)\n",
      "Requirement already satisfied: python-dateutil>=2.7 in f:\\anacondapy\\lib\\site-packages (from matplotlib->pywaffle) (2.8.2)\n",
      "Requirement already satisfied: pillow>=6.2.0 in f:\\anacondapy\\lib\\site-packages (from matplotlib->pywaffle) (8.4.0)\n",
      "Requirement already satisfied: cycler>=0.10 in f:\\anacondapy\\lib\\site-packages (from matplotlib->pywaffle) (0.10.0)\n",
      "Requirement already satisfied: six in f:\\anacondapy\\lib\\site-packages (from cycler>=0.10->matplotlib->pywaffle) (1.16.0)\n"
     ]
    }
   ],
   "source": [
    "!pip install pywaffle"
   ]
  },
  {
   "cell_type": "code",
   "execution_count": null,
   "id": "7e55b054",
   "metadata": {},
   "outputs": [],
   "source": [
    "from wordcloud import WordCloud\n",
    "import matplotlib.pyplot as plt\n",
    "import csv\n",
    "# file object is created\n",
    "file_ob = open(r\"Book1.csv\")\n",
    " \n",
    "# reader object is created\n",
    "reader_ob = csv.reader(file_ob)\n",
    " \n",
    "# contents of reader object is stored .\n",
    "# data is stored in list of list format.\n",
    "reader_contents = list(reader_ob)\n",
    " \n",
    "# empty string is declare\n",
    "text = \"\"\n",
    " \n",
    "# iterating through list of rows\n",
    "for row in reader_contents :\n",
    "     \n",
    "    # iterating through words in the row\n",
    "    for word in row :\n",
    " \n",
    "        # concatenate the words\n",
    "        text = text + \" \" + word\n",
    " \n",
    "wordcloud = WordCloud(width=300, height=200, colormap=\"Oranges_r\").generate(text)\n",
    " \n",
    "# plot the WordCloud image\n",
    "plt.figure()\n",
    "plt.imshow(wordcloud, interpolation=\"bilinear\")\n",
    "plt.axis(\"off\")\n",
    "plt.margins(x=0, y=0)\n",
    "plt.show()"
   ]
  },
  {
   "cell_type": "code",
   "execution_count": 18,
   "id": "7eed09de",
   "metadata": {},
   "outputs": [
    {
     "data": {
      "image/png": "[encoded data removed]",
      "text/plain": [
       "<Waffle size 432x288 with 1 Axes>"
      ]
     },
     "metadata": {
      "needs_background": "light"
     },
     "output_type": "display_data"
    }
   ],
   "source": [
    "import pandas as pd\n",
    "import matplotlib.pyplot as plt\n",
    "from pywaffle import Waffle\n",
    "data ={'phone': ['Xiaomi', 'Samsung',\n",
    "                 'Apple', 'Nokia', 'Realme'],\n",
    "       'stock': [22, 12, 8, 8, 4]\n",
    "     }\n",
    "  \n",
    "df = pd.DataFrame(data)\n",
    "fig = plt.figure(\n",
    "    FigureClass = Waffle,\n",
    "    rows = 5,\n",
    "    values = df.stock,\n",
    "    labels = list(df.phone)\n",
    ")\n",
    "\n"
   ]
  },
  {
   "cell_type": "code",
   "execution_count": null,
   "id": "f484bce6",
   "metadata": {},
   "outputs": [],
   "source": []
  },
  {
   "cell_type": "code",
   "execution_count": null,
   "id": "7c45ab5a",
   "metadata": {},
   "outputs": [],
   "source": []
  },
  {
   "cell_type": "code",
   "execution_count": null,
   "id": "2b9e8395",
   "metadata": {},
   "outputs": [],
   "source": []
  },
  {
   "cell_type": "code",
   "execution_count": null,
   "id": "bce24124",
   "metadata": {},
   "outputs": [],
   "source": []
  },
  {
   "cell_type": "code",
   "execution_count": null,
   "id": "b44ba14d",
   "metadata": {},
   "outputs": [],
   "source": []
  },
  {
   "cell_type": "code",
   "execution_count": null,
   "id": "7b0524ba",
   "metadata": {},
   "outputs": [],
   "source": []
  },
  {
   "cell_type": "code",
   "execution_count": null,
   "id": "3ea74cc9",
   "metadata": {},
   "outputs": [],
   "source": []
  },
  {
   "cell_type": "code",
   "execution_count": null,
   "id": "6202b7a2",
   "metadata": {},
   "outputs": [],
   "source": []
  },
  {
   "cell_type": "code",
   "execution_count": null,
   "id": "41385c0a",
   "metadata": {},
   "outputs": [],
   "source": []
  },
  {
   "cell_type": "code",
   "execution_count": null,
   "id": "002956a5",
   "metadata": {},
   "outputs": [],
   "source": []
  },
  {
   "cell_type": "code",
   "execution_count": null,
   "id": "a6daef2f",
   "metadata": {},
   "outputs": [],
   "source": []
  },
  {
   "cell_type": "code",
   "execution_count": null,
   "id": "f3508872",
   "metadata": {},
   "outputs": [],
   "source": []
  },
  {
   "cell_type": "code",
   "execution_count": null,
   "id": "0ed0a5e2",
   "metadata": {},
   "outputs": [],
   "source": []
  },
  {
   "cell_type": "code",
   "execution_count": null,
   "id": "392d3733",
   "metadata": {},
   "outputs": [],
   "source": []
  },
  {
   "cell_type": "code",
   "execution_count": null,
   "id": "89adb209",
   "metadata": {},
   "outputs": [],
   "source": []
  },
  {
   "cell_type": "code",
   "execution_count": null,
   "id": "e370e6ef",
   "metadata": {},
   "outputs": [],
   "source": []
  },
  {
   "cell_type": "code",
   "execution_count": null,
   "id": "adebbf9f",
   "metadata": {},
   "outputs": [],
   "source": []
  },
  {
   "cell_type": "code",
   "execution_count": null,
   "id": "5a6be39a",
   "metadata": {},
   "outputs": [],
   "source": []
  }
 ],
 "metadata": {
  "kernelspec": {
   "display_name": "Python 3 (ipykernel)",
   "language": "python",
   "name": "python3"
  },
  "language_info": {
   "codemirror_mode": {
    "name": "ipython",
    "version": 3
   },
   "file_extension": ".py",
   "mimetype": "text/x-python",
   "name": "python",
   "nbconvert_exporter": "python",
   "pygments_lexer": "ipython3",
   "version": "3.9.7"
  }
 },
 "nbformat": 4,
 "nbformat_minor": 5
}
